{
  "nbformat": 4,
  "nbformat_minor": 0,
  "metadata": {
    "colab": {
      "provenance": [],
      "authorship_tag": "ABX9TyOoPRVbq2b06+WDyMWLFvKA",
      "include_colab_link": true
    },
    "kernelspec": {
      "name": "python3",
      "display_name": "Python 3"
    },
    "language_info": {
      "name": "python"
    },
    "widgets": {
      "application/vnd.jupyter.widget-state+json": {
        "30f24936d9ac4d3fac65093ec0e98019": {
          "model_module": "jupyter-matplotlib",
          "model_name": "MPLCanvasModel",
          "model_module_version": "^0.11",
          "state": {
            "_cursor": "default",
            "_data_url": "data:image/png;base64,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",
            "_dom_classes": [],
            "_figure_label": "Figure 2",
            "_image_mode": "diff",
            "_message": "",
            "_model_module": "jupyter-matplotlib",
            "_model_module_version": "^0.11",
            "_model_name": "MPLCanvasModel",
            "_rubberband_height": 0,
            "_rubberband_width": 0,
            "_rubberband_x": 0,
            "_rubberband_y": 0,
            "_size": [
              1000,
              400
            ],
            "_view_count": null,
            "_view_module": "jupyter-matplotlib",
            "_view_module_version": "^0.11",
            "_view_name": "MPLCanvasView",
            "capture_scroll": false,
            "footer_visible": true,
            "header_visible": true,
            "layout": "IPY_MODEL_da3870e3a1b540caa238de279c408008",
            "pan_zoom_throttle": 33,
            "resizable": true,
            "toolbar": "IPY_MODEL_26c84d8777894786aa2e2741a0e49a5c",
            "toolbar_position": "left",
            "toolbar_visible": "fade-in-fade-out"
          }
        },
        "da3870e3a1b540caa238de279c408008": {
          "model_module": "@jupyter-widgets/base",
          "model_name": "LayoutModel",
          "model_module_version": "1.2.0",
          "state": {
            "_model_module": "@jupyter-widgets/base",
            "_model_module_version": "1.2.0",
            "_model_name": "LayoutModel",
            "_view_count": null,
            "_view_module": "@jupyter-widgets/base",
            "_view_module_version": "1.2.0",
            "_view_name": "LayoutView",
            "align_content": null,
            "align_items": null,
            "align_self": null,
            "border": null,
            "bottom": null,
            "display": null,
            "flex": null,
            "flex_flow": null,
            "grid_area": null,
            "grid_auto_columns": null,
            "grid_auto_flow": null,
            "grid_auto_rows": null,
            "grid_column": null,
            "grid_gap": null,
            "grid_row": null,
            "grid_template_areas": null,
            "grid_template_columns": null,
            "grid_template_rows": null,
            "height": null,
            "justify_content": null,
            "justify_items": null,
            "left": null,
            "margin": null,
            "max_height": null,
            "max_width": null,
            "min_height": null,
            "min_width": null,
            "object_fit": null,
            "object_position": null,
            "order": null,
            "overflow": null,
            "overflow_x": null,
            "overflow_y": null,
            "padding": null,
            "right": null,
            "top": null,
            "visibility": null,
            "width": null
          }
        },
        "26c84d8777894786aa2e2741a0e49a5c": {
          "model_module": "jupyter-matplotlib",
          "model_name": "ToolbarModel",
          "model_module_version": "^0.11",
          "state": {
            "_current_action": "",
            "_dom_classes": [],
            "_model_module": "jupyter-matplotlib",
            "_model_module_version": "^0.11",
            "_model_name": "ToolbarModel",
            "_view_count": null,
            "_view_module": "jupyter-matplotlib",
            "_view_module_version": "^0.11",
            "_view_name": "ToolbarView",
            "button_style": "",
            "collapsed": true,
            "layout": "IPY_MODEL_2c86271aa8604445b16bebcd0bc66ac4",
            "orientation": "vertical",
            "toolitems": [
              [
                "Home",
                "Reset original view",
                "home",
                "home"
              ],
              [
                "Back",
                "Back to previous view",
                "arrow-left",
                "back"
              ],
              [
                "Forward",
                "Forward to next view",
                "arrow-right",
                "forward"
              ],
              [
                "Pan",
                "Left button pans, Right button zooms\nx/y fixes axis, CTRL fixes aspect",
                "arrows",
                "pan"
              ],
              [
                "Zoom",
                "Zoom to rectangle\nx/y fixes axis",
                "square-o",
                "zoom"
              ],
              [
                "Download",
                "Download plot",
                "floppy-o",
                "save_figure"
              ]
            ]
          }
        },
        "2c86271aa8604445b16bebcd0bc66ac4": {
          "model_module": "@jupyter-widgets/base",
          "model_name": "LayoutModel",
          "model_module_version": "1.2.0",
          "state": {
            "_model_module": "@jupyter-widgets/base",
            "_model_module_version": "1.2.0",
            "_model_name": "LayoutModel",
            "_view_count": null,
            "_view_module": "@jupyter-widgets/base",
            "_view_module_version": "1.2.0",
            "_view_name": "LayoutView",
            "align_content": null,
            "align_items": null,
            "align_self": null,
            "border": null,
            "bottom": null,
            "display": null,
            "flex": null,
            "flex_flow": null,
            "grid_area": null,
            "grid_auto_columns": null,
            "grid_auto_flow": null,
            "grid_auto_rows": null,
            "grid_column": null,
            "grid_gap": null,
            "grid_row": null,
            "grid_template_areas": null,
            "grid_template_columns": null,
            "grid_template_rows": null,
            "height": null,
            "justify_content": null,
            "justify_items": null,
            "left": null,
            "margin": null,
            "max_height": null,
            "max_width": null,
            "min_height": null,
            "min_width": null,
            "object_fit": null,
            "object_position": null,
            "order": null,
            "overflow": null,
            "overflow_x": null,
            "overflow_y": null,
            "padding": null,
            "right": null,
            "top": null,
            "visibility": null,
            "width": null
          }
        }
      }
    }
  },
  "cells": [
    {
      "cell_type": "markdown",
      "metadata": {
        "id": "view-in-github",
        "colab_type": "text"
      },
      "source": [
        "<a href=\"https://colab.research.google.com/github/nyee88/Brilliant/blob/main/Brilliant20250819.ipynb\" target=\"_parent\"><img src=\"https://colab.research.google.com/assets/colab-badge.svg\" alt=\"Open In Colab\"/></a>"
      ]
    },
    {
      "cell_type": "code",
      "execution_count": 1,
      "metadata": {
        "id": "JwYYadDjvBTN",
        "colab": {
          "base_uri": "https://localhost:8080/"
        },
        "outputId": "09c3b865-597c-492e-911e-f9ed08bef391"
      },
      "outputs": [
        {
          "output_type": "stream",
          "name": "stdout",
          "text": [
            "\u001b[2K   \u001b[90m━━━━━━━━━━━━━━━━━━━━━━━━━━━━━━━━━━━━━━━━\u001b[0m \u001b[32m511.6/511.6 kB\u001b[0m \u001b[31m10.3 MB/s\u001b[0m eta \u001b[36m0:00:00\u001b[0m\n",
            "\u001b[2K   \u001b[90m━━━━━━━━━━━━━━━━━━━━━━━━━━━━━━━━━━━━━━━━\u001b[0m \u001b[32m11.6/11.6 MB\u001b[0m \u001b[31m38.4 MB/s\u001b[0m eta \u001b[36m0:00:00\u001b[0m\n",
            "\u001b[2K   \u001b[90m━━━━━━━━━━━━━━━━━━━━━━━━━━━━━━━━━━━━━━━━\u001b[0m \u001b[32m1.6/1.6 MB\u001b[0m \u001b[31m23.0 MB/s\u001b[0m eta \u001b[36m0:00:00\u001b[0m\n",
            "\u001b[?25h"
          ]
        }
      ],
      "source": [
        "# STEP 1: Install required libraries.\n",
        "!pip install -q ipympl==0.9.3 matplotlib==3.8.4 scipy"
      ]
    },
    {
      "cell_type": "markdown",
      "source": [
        "🔄 **Restart Required:**\n",
        "Please restart the session before running the simulation below.\n",
        "Go to the menu and click Runtime -> Restart session.\n",
        "(This is a one-time step required for the interactive widgets to load correctly.)"
      ],
      "metadata": {
        "id": "qOAqttcD9_k_"
      }
    },
    {
      "cell_type": "code",
      "source": [
        "# STEP 3: Run the final, polished simulation.\n",
        "%matplotlib widget\n",
        "\n",
        "import numpy as np\n",
        "import matplotlib.pyplot as plt\n",
        "from matplotlib.patches import Circle\n",
        "from google.colab import output\n",
        "from matplotlib import colors as mcolors\n",
        "from scipy.ndimage import gaussian_filter\n",
        "\n",
        "# This enables the widget manager in the new session\n",
        "output.enable_custom_widget_manager()\n",
        "\n",
        "# ------------------- Geometry -------------------\n",
        "N = 8\n",
        "# FINAL FIX: Added 0.5 to all x-coordinates to shift the molecule right.\n",
        "x = np.arange(N, dtype=float) + 0.5\n",
        "y = np.where(np.arange(N) % 2 == 0, 0.0, 0.35)\n",
        "coords = np.column_stack([x, y])\n",
        "\n",
        "bonds = [(i, i+1) for i in range(N-1)]\n",
        "clickable = {0, 2, 4, 6}\n",
        "bond_state = np.zeros(len(bonds), dtype=int)\n",
        "\n",
        "# ------------------- Figure -------------------\n",
        "fig = plt.figure(figsize=(10, 4))\n",
        "ax  = fig.add_axes([0.1, 0.1, 0.8, 0.8])\n",
        "ax.set_aspect('equal', adjustable='box')\n",
        "ax.set_xlim(-2.5, N + 1.5)\n",
        "ax.set_ylim(-2.0, 2.0)\n",
        "ax.axis('off')\n",
        "\n",
        "# ------------------- Styles & Parameters -------------------\n",
        "BLUR_SIGMA = 2.5\n",
        "SINGLE_LW = 2.0\n",
        "SINGLE_COLOR = 'black'\n",
        "DOUBLE_BOND_SEP = 0.08  # Increased from 0.05 to make double bond lines further apart\n",
        "ATOM_RADIUS, ATOM_EDGE, ATOM_FACE = 0.08, '#1f77b4', '#cfe8ff'\n",
        "ORBITAL_WIDTH = 2.2  # Increased from 1.8 to make orbitals overlap more\n",
        "ORBITAL_HEIGHT = 1.0\n",
        "VERTICAL_OFFSET = ORBITAL_HEIGHT/2 + 0.02\n",
        "ORBITAL_COLOR, PEAK_ALPHA, GRAD_POWER = \"royalblue\", 0.35, 1.6\n",
        "CANVAS_NX, CANVAS_NY = 900, 500\n",
        "orbitals_img = None\n",
        "\n",
        "# ------------------- Helpers -------------------\n",
        "def is_conjugated():\n",
        "    even = all(bond_state[i] == 1 for i in range(0, len(bonds), 2))\n",
        "    odd  = all(bond_state[i] == 1 for i in range(1, len(bonds), 2))\n",
        "    return (even and not any(bond_state[i] for i in range(1, len(bonds), 2))) or \\\n",
        "           (odd and not any(bond_state[i] for i in range(0, len(bonds), 2)))\n",
        "\n",
        "def status_title():\n",
        "    ok = is_conjugated()\n",
        "    ax.set_title(\"Conjugated — charge can travel\" if ok else \"Not conjugated — electron blocked\",\n",
        "                 color=('green' if ok else 'red'), pad=10, fontsize=12)\n",
        "\n",
        "def axes_box():\n",
        "    return ax.get_xlim() + ax.get_ylim()\n",
        "\n",
        "def rasterize_orbitals(active_atoms):\n",
        "    xmin, xmax, ymin, ymax = axes_box()\n",
        "    X, Y = np.linspace(xmin, xmax, CANVAS_NX), np.linspace(ymin, ymax, CANVAS_NY)\n",
        "    XX, YY = np.meshgrid(X, Y)\n",
        "    rgba = np.zeros((CANVAS_NY, CANVAS_NX, 4), dtype=float)\n",
        "    rgb = np.array(mcolors.to_rgb(ORBITAL_COLOR))\n",
        "\n",
        "    def add_lobe(cx, cy):\n",
        "        r2 = ((XX - cx)/(ORBITAL_WIDTH/2))**2 + ((YY - cy)/(ORBITAL_HEIGHT/2))**2\n",
        "        g = np.clip(1 - r2, 0, 1)**GRAD_POWER\n",
        "        a = g * PEAK_ALPHA\n",
        "        # Modified to prevent overlap darkening - use max instead of additive blending\n",
        "        current_alpha = rgba[..., 3]\n",
        "        mask = a > current_alpha\n",
        "        rgba[mask, 0:3] = rgb\n",
        "        rgba[..., 3] = np.maximum(current_alpha, a)  # This line already prevents darkening\n",
        "\n",
        "    for ai in active_atoms:\n",
        "        cx, cy = coords[ai]\n",
        "        add_lobe(cx, cy + VERTICAL_OFFSET)\n",
        "        add_lobe(cx, cy - VERTICAL_OFFSET)\n",
        "\n",
        "    if BLUR_SIGMA > 0:\n",
        "        rgba[..., 3] = gaussian_filter(rgba[..., 3], sigma=BLUR_SIGMA)\n",
        "    return rgba, (xmin, xmax, ymin, ymax)\n",
        "\n",
        "def active_atoms_from_state():\n",
        "    s = set()\n",
        "    for i, (a, b) in enumerate(bonds):\n",
        "        if bond_state[i] == 1: s.add(a); s.add(b)\n",
        "    return s\n",
        "\n",
        "# ------------------- Drawing -------------------\n",
        "def draw_scene():\n",
        "    global orbitals_img\n",
        "    ax.cla()\n",
        "    ax.set_aspect('equal', adjustable='box')\n",
        "    ax.set_xlim(-2.5, N + 1.5); ax.set_ylim(-2.0, 2.0)\n",
        "    ax.axis('off')\n",
        "\n",
        "    ax.text(coords[0,0]-0.9, coords[0,1], \"START\", color='green', weight='bold')\n",
        "    ax.text(coords[-1,0]+0.6, coords[-1,1], \"GOAL\", color='red', weight='bold')\n",
        "\n",
        "    for i, (a, b) in enumerate(bonds):\n",
        "        p1, p2 = coords[a], coords[b]\n",
        "        if bond_state[i] == 0:\n",
        "            ax.plot([p1[0], p2[0]], [p1[1], p2[1]], lw=SINGLE_LW, color=SINGLE_COLOR, zorder=5)\n",
        "        else:\n",
        "            perp = np.array([-(p2[1]-p1[1]), p2[0]-p1[0]]) / np.hypot(*(p2-p1)) * (DOUBLE_BOND_SEP/2)\n",
        "            ax.plot([p1[0]+perp[0], p2[0]+perp[0]], [p1[1]+perp[1], p2[1]+perp[1]], lw=SINGLE_LW, color=SINGLE_COLOR, zorder=5)\n",
        "            ax.plot([p1[0]-perp[0], p2[0]-perp[0]], [p1[1]-perp[1], p2[1]-perp[1]], lw=SINGLE_LW, color=SINGLE_COLOR, zorder=5)\n",
        "\n",
        "    for (cx, cy) in coords:\n",
        "        ax.add_patch(Circle((cx, cy), ATOM_RADIUS, facecolor=ATOM_FACE, edgecolor=ATOM_EDGE, lw=1.5, zorder=6))\n",
        "\n",
        "    rgba, extent = rasterize_orbitals(active_atoms_from_state())\n",
        "    orbitals_img = ax.imshow(rgba, extent=extent, origin='lower', zorder=3, interpolation='bilinear')\n",
        "    status_title()\n",
        "    fig.canvas.draw_idle()\n",
        "\n",
        "# ------------------- Click handling -------------------\n",
        "CLICK_TOL = 0.15\n",
        "def dist_point_to_seg(p, a, b):\n",
        "    v, w = b - a, p - a\n",
        "    if (L2 := v @ v) == 0: return np.linalg.norm(w)\n",
        "    t = np.clip((w @ v) / L2, 0, 1)\n",
        "    return np.linalg.norm(p - (a + t * v))\n",
        "\n",
        "def on_click(event):\n",
        "    if not event.inaxes is ax or event.xdata is None: return\n",
        "    click_pos = np.array([event.xdata, event.ydata])\n",
        "    distances = [dist_point_to_seg(click_pos, coords[a], coords[b]) if i in clickable else float('inf') for i, (a,b) in enumerate(bonds)]\n",
        "    best_i = np.argmin(distances)\n",
        "    if distances[best_i] < CLICK_TOL:\n",
        "        bond_state[best_i] ^= 1\n",
        "        draw_scene()\n",
        "\n",
        "cid_click = fig.canvas.mpl_connect('button_press_event', on_click)\n",
        "\n",
        "# ------------------- Initial Run -------------------\n",
        "draw_scene()\n",
        "plt.show()"
      ],
      "metadata": {
        "colab": {
          "base_uri": "https://localhost:8080/",
          "height": 489,
          "referenced_widgets": [
            "30f24936d9ac4d3fac65093ec0e98019",
            "da3870e3a1b540caa238de279c408008",
            "26c84d8777894786aa2e2741a0e49a5c",
            "2c86271aa8604445b16bebcd0bc66ac4"
          ]
        },
        "id": "PWennieOoLaV",
        "outputId": "3c455ab4-e93d-482e-f6ef-702cde1a3721"
      },
      "execution_count": 2,
      "outputs": [
        {
          "output_type": "display_data",
          "data": {
            "text/plain": [
              "Canvas(toolbar=Toolbar(toolitems=[('Home', 'Reset original view', 'home', 'home'), ('Back', 'Back to previous …"
            ],
            "image/png": "[encoded data removed]",
            "text/html": [
              "\n",
              "            <div style=\"display: inline-block;\">\n",
              "                <div class=\"jupyter-widgets widget-label\" style=\"text-align: center;\">\n",
              "                    Figure\n",
              "                </div>\n",
              "                <img src='data:image/png;base64,iVBORw0KGgoAAAANSUhEUgAAA+gAAAGQCAYAAAA9TUphAAAAOXRFWHRTb2Z0d2FyZQBNYXRwbG90bGliIHZlcnNpb24zLjguNCwgaHR0cHM6Ly9tYXRwbG90bGliLm9yZy8fJSN1AAAACXBIWXMAAA9hAAAPYQGoP6dpAAA0tUlEQVR4nO3deZyWdb0//hc7CIqgKIgCgkqapimiZeZCueaC4TLTYqXlOY8yO9m+HPVrfjt9W05Wnl92styaUVExSystcSv33VxZ3VBwAQFZZOb6/XE1DMMMq8hcg8/n4zGPGa7t/tz3XMx1v+7P5/q8OxVFUQQAAABoV53buwEAAACAgA4AAACVIKADAABABQjoAAAAUAECOgAAAFSAgA4AAAAVIKADAABABQjoAAAAUAECOgAAAFSAgA4AAAAVIKADAABABQjoAAAAUAECOgAAAFSAgA4AAAAVIKADAABABQjoAAAAUAECOgAAAFSAgA4AAAAVIKADAABABQjoAAAAUAECOgAAAFSAgA4AAAAVIKADAABABQjoAAAAUAECOgAAAFSAgA4AAAAVIKADAABABQjoAAAAUAECOgAAAFSAgA4AAAAVIKADAABABQjoAAAAUAECOgAAAFSAgA4AAAAVIKADAABABQjoAAAAUAECOgAAAFSAgA4AAAAVIKAD0P5uvjnp1Kn8vqEbNiz51KfauxWr1lHaua5Nm1aeiz/60aq3PfPMctu3y/77Jzvv/PYdP0kuvLB8DtOmvb2PA8BqEdABqqDpTXLPnsnzz7de/1beqP/P/5THZ/Vdf30Zvnj7/N//m1xzTXu3AgAqRUAHqJJFi5L/+q91e8yOENA/+MFkwYLyexVcf31y1lnt3YoNm4AOAK0I6ABVsttuyf/+b/LCC+3dkvWrc+dy9EBnlyXaMH9+e7cAANYL74QAquRb30oaGlavF33JkuTss5MRI5IePcp7hr/1rbIXvsmwYck//5nccks5hL5Tp3K4/Mo0NibnnpvssksZmgcMSA45JLn33jV77KbH/8hHkttvT0aPLo83fHhy8cUtt2vrHvQV3QO9//6tn8P06cmRRya9eydbbJH8x38kf/lL62Pedlty7LHJkCFlu7fZptx2wYLmbT71qeS888qfm16zZe8zbmxMfvrT5N3vLp/Pllsmp5ySvPZayzYVRfK97yVbb51stFFywAHl76K9LVqUnHFGst12za/B177W+nfXltmzky99qdynR4/yGD/4QfmaLGtV51CnTmXovuii5te36XfddF/3Y48ltbVJv37JBz5QrlvX592q/Pd/J0OHJr16Jfvtlzz66Kr3Wd02Jsmf/lQed+ONk002SfbcM6mrW/nxb7ihPJ9qasrHSpInnkjGjUv69y+f66hRybXXtt73n/9MDjywfD5bb12en8v/7gBoV13buwEALGPbbZNPfrLsRf/GN5KttlrxtiefXAacceOS009P7ror+f73k8cfTyZMKLf56U+TU09N+vRJvv3tctmWW668DSedVA6JP/TQ8jGWLCmD7Z13lm/8V/exm0yaVG530knJiScmv/lNGcb22KMMuW/V/Pll6JgxIznttGTgwDLkTJzYetvx45M33kj+/d+TzTZL7r47+fnPk+eeK9clZdh+4YXkxhuTSy5pfYxTTilfn09/OvniF5OpU5Nf/CJ54IHk739PunUrt/vP/ywD0GGHlV/3358cdFCyePFbf85rq7Gx/CDj9tuTz30u2XHH5JFHyiD61FMrH3L+xhtlmHz++fI1GDIk+cc/km9+s3ztf/rT5m1XdQ5dckm5fPTosh1JGWiXdeyxyfbbl0Phi6Jctj7Pu4svTubOTT7/+WThwvIDhwMPLF+vlf0fWt02Xnhh8pnPlG355jeTTTctz6E//7n8YKItf/xjedzjjy+fT5cuZejeZ59k8ODyb0bv3skVVyRHH51cdVUydmy574svlh8SLVnSvN2vflWGdQCqowCg/f32t0WRFMU99xTF5MlF0bVrUXzxi83r99uvKN797uZ/P/hguf3JJ7c8zle+Ui6/6abmZe9+d7n/6rjppnL/ZR+7SWPjmj/20KHlsltvbV42c2ZR9OhRFKef3rxs4sRyu4kTW+574omt27Hffi2fz49/XO57zTXNyxYsKIp3vav1Md94o/Xxvv/9oujUqSimT29e9vnPl/su77bbyuW/+13L5X/+c8vlM2cWRffuRXH44c2vW1EUxbe+VW7X1vNaHy65pCg6dy6fx7J++cuyXX//e/Oy5V//s88uit69i+Kpp1ru+41vFEWXLkXxzDPlv1fnHCqK8lhtvQ5nnFHuX1PTcvnbcd61ZerUct9evYriueeal991V7n8P/6jdVvXtI2zZxfFxhsXxV57lefqspZ9jZb9f3/VVUXRrVtRfPazRdHQ0LzNmDFFscsuRbFwYctjvP/9RbH99s3LvvSlsg133dXyNenbt1w+depKXxYA1g9D3AGqZvjw5BOfKHu3Zsxoe5vrry+/f/nLLZeffnr5/brr1u6xr7qqHF58xhmt1zUN817Tx95pp2TffZv/PWBAMnJkMmXK2rVxeX/+c9l7eOSRzct69kw++9nW2y7bWzh/fvLyy8n731/20D7wwKofa/z4pG/f5MMfLvdt+tpjj3KUQlOv/V//WvaUn3pqy+HxX/rSWj3FdWb8+LLX/F3vatn+Aw8s17c16mDZfffdtxxyvuy+H/pQeVvGrbeW263OObQ6/u3fWv57fZ93Rx9dnldNRo9O9tqruR1tWd023nhj2Tv/jW+U5+qy2nqN6uvLXvNTTknOP795roZXX01uuik57rjyeE2/k1deSQ4+OHn66eaqENdfn+y9d/k8mgwYkHzsYyt9GQBYvwxxB6ii73ynHAb8X/9VDq1d3vTp5Zv07bZruXzgwHKo7PTpa/e4kyeXw+r791/xNmv62EOGtD5Gv36t79leW9Onl8Ojlw82y7cvSZ55phx6fu21rR9/zpxVP9bTT5fbbbFF2+tnzmxuU1IO0V7WgAHlc1+VWbPK0Ls2Bgwohz635emny6HWAwa0vb6p/Sva9+GHV73v6pxDq2PbbVv+e32fd8v/7pJkhx3K4eMrsrptnDy5/L46pROnTk0+/vFyyP/Pf95y3aRJ5YdL3/1u+dWWmTPLDxqmTy8/YFjeyJGrbgMA642ADlBFw4eXb8p/9auyl21F1qRHcl1b3cdeUVhsuq94TY/f0LDiY65MQ0PZ8/3qq8nXv172IvfuXfYwfupTqzdZVmNjGc5/97u2168ovK6pPfdc+w9Zpk4tJyZrS2NjOXHbT37S9vpttlnxcRsby9fva19re/0OO6xRM1dpRfdGv93n3bqwLv9fDhpUfl1/fTnJXtM8EEnzOfuVr5Q95m1p64MqACpLQAeoqu98J7n00nKW7OUNHVq+OX/66XLIcpOXXipn2h46tHnZmoSFESPK2c9ffXXFPaBr8thvRb9+5fGWN316+QHGsu157LEyeC37XCdNarnfI4+UE6FddFE5EV+TG29s/Rgres1GjCiHr++zz8on12p6DZ5+umVbZ81avR7c3/2u5czya2LgwBWvGzEieeihZMyYNQ+RI0Yk8+aVQ9pXtd2qzqFkzR9/fZ13TZ5+uvWyp55a8Ycfa9LGpgnxHn101QG6Z89ycrgDDyxnwr/lluZJ7prOrW7dVv17GTq07ef05JMr3w+A9co96ABVNWJE2Yt+/vnlDMzLOuyw8vuyM2cnzT2jhx/evKx377aDbls++tEy6J51Vut1TT2Pa/LYb8WIEeWs38vOev7HPybPPttyu4MPLnvBly0rtXBhORP+spp6VJftQS2Ktm8h6N27/L7863bccWVP/Nlnt95nyZLm7T/0oTI0/fznLR9v+ddsRfbZpzzG2nwtf0/z8u1//vnWr01SfiCwsnrjxx2X3HFHGb6XN3t2c8mv1TmHkjU7L5P1d941ueaa5vu3k3LG/7vuKmemX5HVbeNBB5Wl1b7//fJcXVZbPfx9+5av+xZblKMYmobIb7FFWXLw/PPbnq9i1qyWbbvzzvJ5LLt+RaNBAGgXetABquzb3y7vRX/yyZaloXbdtSwd9atflSFnv/3KN94XXVRObnXAAc3b7rFH8v/9f2XJr+22K9/UN00KtrwDDignqPvZz8retkMOKXsEb7utXPeFL6zZY78VJ5+cXHll2YbjjitDyaWXti7HdcopZZmzmpqyzNqgQWXoaAqqTT2173pXue9XvlIGr002KSc0a6tHe489yu9f/GL5AUCXLskJJ5TP9ZRTymD14INl0OrWrXytxo8vw/64ceVQ9698pdzuIx8pw9EDD5R1rzfffN28PmvjE58o76H+t38rJ4TbZ5/yA4cnniiX/+UvLYdQL+urXy0/BPnIR5rLlc2fX45MuPLKZNq08rmtzjmUlPv/9a9leN1qq/Ke87bukW6yvs67JtttV9Zf//d/L2uY//SnZWm+FQ3xX5M2brJJWdru5JPL2xma6r0/9FBZzu6ii1ofe/PNy9EeH/hA+UHM7beX95afd165bJddyokRhw8ve+zvuKMsH/jQQ+X+X/ta+bfkkEPK/ydNZdaGDi3nFgCgGtp7GnkAipZl1pZ34onlumXLrBVFUbz5ZlGcdVZRbLttWX5pm22K4pvfbFluqSiK4sUXy3JfG29cHmdVJdeWLCmKH/6wLFPWvXtRDBhQFIceWhT33bfmjz10aPnYy1u+VFpbZdaKoiyhNnhwWR5rn32K4t57W+9bFEUxZUr5OL16le09/fSyLFVSFHfe2bzdY48VxYc+VBR9+hTF5puXJaseeqjc7re/bfkanHpqeaxOnVqXXPvVr4pijz3Kx9t447LM1de+VhQvvNC8TUND+RoNGlRut//+RfHooysuH7e+LF5cFD/4QXk+9ehRFP36lc/lrLOKYs6c5u3aaufcueXvebvtynNj883Lcl4/+lF53Carcw498URRfPCD5WuzbOm5ptJls2a1bvu6Pu/a0lRm7Yc/LM+/bbYpX6d99y3PlWUtX2ZtTdpYFEVx7bXl69erV1FssklRjB5dFPX1Ldu7/P/7SZPKc2rHHZtfo8mTi+KTnyyKgQPLxxw8uCg+8pGiuPLKlvs+/HB5zJ49y23OPrsoLrhAmTWACulUFOtjthQAWIm//a3sFbzttrI3cF346U+T//iPshdx2XJZAAAV5R50ANpf0/2zazv8e/kJ1RYuLO/L3X574RwA6DDcgw5A+5k/v7xf/Nxzk623XvtSXcccU9a93m23sk75pZeW91WbAAsA6EAEdADaz6xZyamnlhNc/fa3See1HNh18MHJr39dBvKGhmSnnZLLLkuOP37dthcA4G3kHnQAAACoAPegAwAAQAUI6AAAAFABAjoAAABUgIAOAAAAFSCgAwAAQAUI6AAAAFABAjoAAABUgIAOAAAAFSCgAwAAQAUI6AAAAFABAjoAAABUgIAOAAAAFSCgAwAAQAUI6AAAAFABAjoAAABUgIAOAAAAFSCgAwAAQAUI6AAAAFABAjoAAABUgIAOAAAAFSCgAwAAQAUI6AAAAFABAjoAAABUgIAOAAAAFSCgAwAAQAUI6AAAAFABAjoAAABUgIAOAAAAFSCgAwAAQAUI6AAAAFABAjoAAABUgIAOAAAAFSCgAwAAQAUI6AAAAFABAjoAAABUgIAOAAAAFSCgAwAAQAUI6AAAAFABAjoAAABUgIAOAAAAFSCgAwAAQAUI6AAAAFABAjoAAABUgIAOAAAAFSCgAwAAQAUI6AAAAFABAjoAAABUgIAOAAAAFSCgAwAAQAUI6AAAAFABAjoAAABUgIAOAAAAFSCgAwAAQAUI6AAAAFABAjoAAABUgIAOAAAAFSCgAwAAQAUI6AAAAFABAjoAAABUgIAOAAAAFSCgAwAAQAUI6AAAAFABAjoAAABUgIAOAAAAFSCgAwAAQAUI6AAAAFABAjoAAABUgIAOAAAAFSCgAwAAQAUI6AAAAFABAjoAAABUgIAOAAAAFSCgAwAAQAUI6AAAAFABAjoAAABUgIAOAAAAFSCgAwAAQAUI6AAAAFABAjoAAABUgIAOAAAAFSCgAwAAQAUI6AAAAFABAjoAAABUgIAOAAAAFSCgAwAAQAUI6AAAAFABAjoAAABUgIAOAAAAFSCgAwAAQAUI6AAAAFABAjoAAABUgIAOAAAAFSCgAwAAQAUI6AAAAFABAjoAAABUgIAOAAAAFSCgAwAAQAUI6AAAAFABAjoAAABUgIAOAAAAFSCgAwAAQAUI6AAAAFABAjoAAABUgIAOAAAAFSCgAwAAQAUI6AAAAFABAjoAAABUgIAOAAAAFSCgAwAAQAUI6AAAQLUsXJj8938n739/summSY8eyZAhyYc+lPzkJy23ratLDjgg6dcv6d693O7EE5PHHmv72GeemXTqVH717Zu88UbL9dOmNa8/88x1/9xgJQR0AACgOl55Jdl77+TLX07uuCN5881khx2Szp2TW25JTj+9eduTT04+9rHk5puTxsZkxIjkhReSiy9ORo1Kbrih5bGLolzX5PXXk6uvXi9PC1aHgA4AAFTHF76QPPRQ+fNpp5WB/ZFHyp7tl19Ofvvbct3VVycXXFD+fNRRycyZyeOPJw88kGy+ebJgQfLJT7bsIb/llmTq1PLnUaPK7xdeuD6eFayWru3dAABWrbGxyD8mv5JrH3o+r85fnB7duuT9IzbL0bsNTu8e/pS/U01/ZX4uu+fZTJk1L0kyfECf1Ow5JEM226idW0Z7mb9oSa558Pn8Y/IrWfRmQ/r37p4jdx2cfbbbLJ06dWrv5tEOOtz1Y/bsZPz48udddy2Hs3depk+xb9/kU58qf77kkubl555bDoNPkl12ST7/+eSss5KXXkpuvLEM8ElzGN9zz+S7302OPDKZODF59tlkm23exicGq6eC/ysBWNajz8/JFy97IFNmzW+x/LqHZ+T71z+Rrxy0Qz61z7bt1Draw7xFS/L1Kx/O9Y/OSFEsu+al/PKWyTls50H5wbj3pE8V33zztrnw71PzoxueyrxFS1osv+Le5zJ8QO/87IT3ZufBfdupdbSHDnn9eOqppKGh/HnffZvD+dFHJ7//ffN2v/1t8uST5c+bbpoMHdryOLvt1vxz03bz5iVXXln+/IlPJIccUva0v/xyctFFyXe+s46fDKw5V26ACnv0+Tk5/vw7Mn9xQ3p175r9dxycYZtvktcXLMrEx57PC7Pn58w/PJb5ixvy+QO2a+/msh4sWNyQT15wV+5/ZnaSZPdhAzJq2y2SJPdOnZn7p83KdY/MyIw5C1L32b3Ts1uXdmwt68t5Eyflh38pQ8hWm/bOATsNzia9emTay6/n5sefz5RZ83P8+Xfk8lPeJ6S/Q2wQ149le85Hjix71JuGvi+rrdEhndu4k/fKK5P585Nu3ZITTii/H398ct55AjqVIaADVFRjY5EvXvZA5i9uyLu37p9vHjEqfXp2W7r+o6O3y1X3TM7v/v5kfviXJ3PAyC2y01abtGOLWR/Omzgp9z8zO316dMt3x+6ZkYP6LV132G7D8uSM13L2hHty/zOzc97ESTn9oJHt2FrWh8deeH1pOP/4PiNzzJ4j0nmZwPKx94/M9/9wb/753Kv54mUP5G9f3s9w9w1ch75+jByZdOlS9qL/4x/Ny3/wg+TTn0523LHlto8/nrz2WjJ9este9AceaLld0jy8vaEh2X778ufFi8vvkyYlt9+efOAD6/wpwZowSRxARf1j8iuZMmt+enXv2urNVZJ07tQpx47eLntvNzBJculd09ujmaxHi5Y05LJ7nkmS/NuYnVuE8yYjB/XLKWN2TpLU3/1MFi9pXK9tZP275M7y//77thuYcaO3axHOk6RPz2755hGj0qt710yZNT//mPxKezST9ahDXz/69k2OO678+d57kzPOaB7yvrxPfKL55y99KVm0qPz50UeTX/yi/HnLLZMPf7icGO7WW8tljY3JnDnl14IFzcdoa7K4JUvKkm/LfsHbSEAHqKhrH3o+SbL/joNbvbla1uG7DUuS/OHBF9ZHs2hHd0x+JS/PW5x+vXssfWPdlvdtNzD9NuqRl+ctzh1ThLEN3R8eKv/vH/avvwVt6dOzW/bfcXCS5Fp/KzZ4Hf768fOfJ+95T/nz//k/Sf/+yXvfm+y/f8vtjjkm+cxnyp+vuaYM4zvtVN5//vLLSc+eZUm1jTYqh7AXRTms/bXXyp+bvr70pfIY48e3rol+zjlJr14tv2bPftueOgjoABX16vxy2N2wzVc+7HDbAeX6uYuWZNGSFfQysEFoOieGbLZxunZZ8SW8a5fO2WazPv/aZ9F6aRvtY9GShqWTwjX9LViRpr8lr/zrPGLD1eGvH5ttltx5ZzmsfY89yh7vJ54ow/HBBye//GU5aVxSllm79NJkv/3Kfz/9dDJwYNm7fu+9yUEHtax9fsAB5aRyyzrmmPK7muhUgHvQASpm8eLFueGGG/LAvc8kvYfm9QUrD1hzmtYXjfn1+efnuOOOzYABA9ZDS1lfiqLIww8/nKuuuDHJjpnzxqpD9+sLyjfoV15enxFdDs4uu+zivuMNzKxZs3LFFeOTYpukU+fMWbBopb2lTX9LHrj3rvxxsxdz0EEHpXv37uuruawHa3v96NK5U7qv5EO/dtGrV/K1r5Vfq/Kxj5VfK9KpUzJlyorX77tvliuJ0frfsJ5U7H8iwDtTY2Njbr755pxyyikZNGhQjjjiiDx12x+SJBMfez6NK3mjcNM/n0uSLJj+UL7whc9n0KBBOfTQQ3PJJZdk7ty566X9vD2mTJmSc845JzvvvHN22223XPaLc1I0LMm0l+dmysw5K95v5pxMe3luioY3c9kv/m923XXX7LzzzjnnnHMyZWVvUqm8uXPn5pJLLsmhhx6aQYMG5Qtf+HwWTH84STLxsedWuF9jUWTiY+Ww56du+0OOOOKIDBo0KKecckpuueWWNDaaq6CjWhfXj/cN38wHeFARnYrCx0MA7aEoitx///2pr6/PZZddlueff77F+k7demabL1ySTt175eP7jMy40a3L4Ex+aU6+Pf6OLHyzITMnnJMFT93RYn3Pnj1zxBFHpLa2Noceemh69Ojxtj4n3roXX3wxl19+eerr63PXXXe1Wj/gqK9no3ftmx236pczjhmdnt1aDoZb+OaSnHX13Xn8hdfyxuO3Zta1/6/VMfbaa6/U1tbmuOOOy8CBK76XnWpYuHBh/vSnP6W+vj5/+MMfsnC5Sao22uH9GTD2W+nZrUvOOfZ9GbFl6zJq4++elN/9/ckUi9/Is7/4ZIo3Wx5j8ODBOeGEE1JbW5v3vve9wlrFrevrxy8/vnsO2XnQ+mo+sBICOsB69uSTT6a+vj719fV56qmnWq3faKONcvTRR6empiYvbvKufO/6snzS+7YbmMN2G5ZtB2ySOQsW5aZ/PpfrHpyWhW82ZO/h/fP10Rvl8svK4z7zzDOtjtu3b9989KMfTU1NTQ444IB06aI+dlXMnj07V199derr63PTTTe12Zv5gQ98ILW1tRl1wOH5zGWPZ+7CJdmmf58ctcfwjBr+rzroU2bmmvum5LlX52Xjnl3zmxN2zD03/TH19fW5/fbbWx2zc+fOOfDAA1NTU5Njjjkmmy5/XybtpqGhIRMnTkxdXV2uvvrqzJnTesTE0KFDU1NTk+OOPyE/uPuN3Dnl1fTs1iWH7zYsB7576/Tt1SNTZ72e6x6cljsnvZgk+c5hIzPw9SdSV1eX3//+93lj+Qmxkuywww6pra1NTU1Ndthhh7f9ubL63q7rx6Un7bXSeS2A9UdAB1gPnnvuuaW9ovfdd1+r9d26dcshhxySmpqaHHnkkendu/fSdedNnLS0xnFb9h7eP7/65Khs8q97TxsbG3PHHXekvr4+V1xxRWbNmtVqn4EDB+b4449PTU1NRo8erbesHSxYsCB//OMfU1dXl+uvvz6LF7eeuGvXXXdNbW1tjj/++Axdpr7v/c+8lpMuvCevvfFmm8fut1G3XPCpPbP7kOYybNOnT89ll12W+vr6PPTQQ6326d69ew4//PDU1NTkIx/5SHr16rUOniVroiiK3H333amrq8sVV1yRF198sdU2AwYMyHHHHZfa2trsvffe6dy5DFWvL3wzn7v43tw55dUVHv+rB4/M5w9o7kmdP39+rr322tTX1+dPf/pTlixZ0mqfPfbYY+k5OHjw4HXwLFlT6/P6AbQ/AR3gbfLKK6/kqquuSl1dXW699dYs/+e2U6dO2W+//VJbW5uPfvSj6d+//wqP9dgLr+fSu6bnDw++kLmLlqRL50553/DN8vG9h+RDO265wp6PJUuW5G9/+9vSXrh58+a12mb48OGpqalJbW1tdtppp7f2pFmpN998c+nvY8KECSv8fTT1Xq7s9/Hq/MUZf++zqbv7mUx/pewFHbrZRqkdPSTHjtom/XuvePKvxx57LPX19amrq2vznvSNN944Rx99dGprazNmzJh06+bN+9vpscceS11dXerr61f4+xg7duzS30fXrm3P8bukoTF/ffylXHrnM7ljyitpaCyycY+uOWK3rfLxvYZmp61WPKN309+r+vr63HLLLSv8e1VTU5Nx48at9O8Vb10Vrh9A+xDQAdahph6purq6/PnPf35beqQWLWlI9y6d17jXe8GCBbnuuutSV1eX6667boU9tjU1NTnhhBNa9Niy9hobG/OPf/xj6YiGl19+udU2TSMaamtrs+eee67x73ZJQzkkfk3faDf12Dbdx/rSSy+12mbAgAE59thjU1tbm/e9731Le2x5a5pGNNTV1eXhhx9utb5pRENtbW0OP/zwNR7RUBRFFjc0pkfXNb+V5fnnn8/ll1+eurq6FfbYHnzwwamtrW3VY8vaq/L1A1h/BHSAt6iprE1Huqdz9uzZmTBhQurq6lZ4z/M+++yT2traHHussm1rqqksWtO9oiubE6C2tjb7779/u88J0NDQkJtvvjl1dXW56qqr2rzneciQIUtHWyjbtuZmzZqV8ePHp66uLn//+99bre/cuXPGjBmTmpqajB07thJzAjz11FNLR1us6J7no446KrW1tcq2rYWOeP0A3l4COsBaaGxszK233pr6+vpceeWVefXV1vd9dpRZkV988cVcccUVqaura3PW8C5duuTDH/5wamtrc/TRR2fjjTduh1Z2DFOmTFkaZh577LFW63v27JkjjzwyNTU1lZ5Vf9GiRfnTn/6Uurq6NmcNT5KddtppaWgYPnx4O7SyY5g7d26uueaa1NXV5cYbb0xDQ0Orbfbee+9ysrcKz6pfFEUeeOCB1NXVtTlreJL0798/48aNS21tbfbdd1+jLVZgQ7p+AOuegA6wmlZV1iYp36Aee+yxqamp6ZBvUCdPnrx02O2KAqaybS2tqixaly5dctBBB6W2tjZHHXVUh/uAoylg1tfX54YbbmgzYCrb1tKqyqIl5QccH/vYx3LCCSd0uA84Ghsbc9ttt6Wurk7AXE3vhOsHsG4I6ACrsCZlbTaUIZ5FUeSRRx5ZOnGVsm0trUlZtHHjxm0wtwg0DdFWtq21NSmLVlNTs8HcImCI9sq9E68fwFsjoAO0YXXL2tTW1uaII47YoCdJUrattCZl0U444YQMGTKkHVq5/kyfPn3pRGLv1LJtb6Us2oZI2baS6wfwVgjoAP+yLsvabKjeaWXbVqcs2ogRI5b2inb057u23mll29ZVWbQN2TutbJvrB7CuCOjQwS1uWJwf/eNHufThSzN9zvR06dQlW/TeIrtsuUvO3O/M7Dpw1wz76bBMnzN9pcc5Y78zcub+Z6Yoioz42YhMnT01SXLSe0/Kr4/8dYttz7z5zJx1y1lL/90pndK3Z9/suuWu+e4Hv5sxw8e02qYtQ/sOzbQvTVu7J76OrE5Zm1GjRqWmpmaD7vFZGxtq2bb1URZtQ1UURe65556lE4ltSGXb3u6yaBuyDbVsm+sH8HYQ0KGDO+1Pp+Vnd/8sSbJ9/+3Ts2vPTJs9LXMXz834Y8dn3E7jMvbysZkxd0aS5LnXn8vzc8vJaXYbuFt6dCkn+Tp595Nz8u4n5+ZpN+eAiw5YevxNemySGafPyEbdNlq6bNnwvdvA3VIURR6d+Wgaiob06torT37hyfxl8l/y6/vLYL+oYVEefPHBJMngjQdn6022TpIM2nhQJhw/4W18ddq2ePHi/OUvf0l9fb17JteRjl62rSOWRau6NSnbVlNTk/e85z2V+6CjI5ZFq7qOXrbN9QN42xVAh7blD7cscmaK/7zpP5cua2xsLG6ffnvx1MtPtdr+jIlnFDkzRc5MMfW1qa3WnzjhxCJnptj5f3Yuepzdo8iZKS556JJVHuOC+y9YuuzKf17ZYvupr01duu6MiWe85ee8NhoaGoqJEycWn/vc54p+/foVSVp9DR48uDj99NOL++67r2hsbGyXdm4IZsyYUZx77rnFXnvt1ebr3KVLl+KQQw4pLr744uL1119v17ZOmjSpOPvss4uddtqpzbb27NmzOO6444oJEyYUCxcubNe2dmQLFy4sJkyYUBx77LFFz54923ytd9ppp+J73/teMXny5HZt6+uvv15cfPHFxSGHHFJ06dKlzbbuvffexbnnnlvMmDGjXdvakTU2Nhb33XdfcfrppxeDBw9u83Xu379/8bnPfa64+eabi4aGhnZrq+sHsD7pQYcObosfbpFZb8zK3lvvnW/v++3sudWe2bLPlivcftne76mnTc2wTYctXTdv8bwM/NHAzH9zfs477Lz8berfcvXjV2fMtmPy10/+daXH+M0Dv8lJ156UJLn75Luz5+A9l24/bfa0bHvutkmah9KviUefn5PJs8p7f0cM6JOdB/ddrf2Kf5W1qaury+WXX66sTTt4u8q2zZy7MPdOey0L32xI/97d8/4Rm6d719X73c2YMSNXXHHFBlsWrepWt2xb07Dg1S3btmhJQ+6Y/Epenb84Pbt1yahh/bLFxj1Xa98NvSxa1a1J2baamprsvvvuqz3awvUD6GgEdOjg2rrXe+RmI/OxXT6Wr+7z1fTs2nOF2y8f0C988MJ8+vefTrfO3TLj9Bm5dfqtOeaKY9K5U+dMO21atum7Tatj7DZwtyTJIy89ks6dOuer7/9qzhlzTovHXNuAft3DM3L+rZPz8HMth8a+Z+u+OeWDI3L4ewa1uZ+yNtVTrKOybZNmzs1P//p0/vzoi1nS2Hz52rxP95yw55B84cDt0rNb6/2ayqLV1dVl4sSJ75iyaFW3Lsq2LVjckPMmTspl9zyTl+c1z4PQtXOnHLLzwHzpQztkuy36tNrvnVoWrerWVdk21w+goxLQYQMw4fEJ+e2Dv80t02/J64teX7r8xF1PzIVHX9hi25UF9P0v3D+3TL8lR408KteccE0WNyzOoB8PyqsLXs3ZB5yd73zwO62OsawhfYfk8nGXZ++t926xfG0C+s/+9nR+cmP55qhrl84ZOXDTJMmTL87OkoYyXJ3+4R1y6pjtkzSXtamrq8v999/f6njK2lTH2pZtu/+Z13Lib+7O3IXlREzDBmySvr2655lX5ua1+YuSJLsP2TSXnLRXevfoqixaB7M6ZdsOO+yw1NbWLi3bNm/Rknzygrty/zOzkyT9evfIkM02zpw3FmXay3OTJBv37JqLPjM6uw/ppyxaB7O6ZduaRltsvXU5v4nrB9CRCeiwAWksGnPfC/flpGtPyiMzH0nfHn0z+xuzW2yzooA+9bWpGfGzESlSpGfXnksnj5u3eF4aioZs13+7PH3q020e482GN3Po7w7N5NcmZ1CfQXn61KfTu3vzG5g1DejXPTwjn68r3yQdvcfwjB01PH03Ktsz541FmXDvlFxzX1naaOwWr+SBa3+jrE0Htbpl28ae8Inc0HWvvL6oMTtu1S+fPeDdGb5FOVR1SUNj7pz0Yn75t0czb9Gb2WNAp/R+6DJl0TqwVZVt69OnT8aOHZt5u56Q+2cV6dOjW/5tzM7Ze7uB6dqlDNRTZs7J/078Zx5/4bVs0qNzDlpyVyZcdomyaB3U6pRt++AHP5j3HvmZTJi5WRLXD6Bj8rEwdHDfuek7S2dI79ypc/YcvGd22Kwc8te35+rda5ckFz10UYqUb1AWLlmYOYvmZM6iOWkoyvtDJ706Kbc/03oIapJsv9n2+e+D/ztJMmPejPzPPf+ztk8nSXL+rZOTlG+uPvXBHZe+uUqSvhv1yKc+uGOO3qO8B/SyB19p9WZt1KhR+fGPf5xnn302EydOzGc/+1lvriqqa9euOfjgg3PRRRdl5syZGT9+fMaOHdti2OiUKVPyv399NK8vasw2/fvkjGNGLw3nSdlD9oGRW+W7Y8t5D+6d2ZD6a29oEc4HDhyY0047LXfddVeefvrpnH322cJ5he200045++yzM2nSpNx111057bTTsuWWzXNrzJs3L/V/uDH3zSz/Pn137J75wMitlobzJBm+Rd+ccczobNO/T15f1Jj//esjLcJ59+7dM3bs2IwfPz4vvfRSLrroohx88MHCeUVtttlm+dznPpeJEyfm2WefzY9//OPsscceS9cXRZFbbrkllz30ShLXD6DjchWCDu7X9/8659x2TjbfaPMM6TskM+fPzHOvP5ckqd25drWOURRFLn7o4iTJuJ3GZfyx45eua2hsyMAfD8zLb7ycCx+8MB8Y8oE2j/GRHT6SnbfYOY/OfDQ/ufMnOXWvU1vd/746Hn1+Th5+bk66demcY/YcscLtxo4anj8+MDXZaod022J4hvfrtrRXVFmbjqlXr14ZN25cxo0b16psW5/dDk6SHD1qeHp2a/vSNXJQv7x36IA8MH1W+ux6cIqHfp9x48alpqZGWbQOqlOnThk9enRGjx6dH//4xy3KtnV6z8Hp1Klzdh82ICMH9Wtz/57duuaoPYbnFzc+nD67HZJ5916jLNoGYPDgwfnyl7+cL3/5yy3Ktk2b05Aeg3Zw/QA6ND3o0MF978Dv5aiRR2Xj7hvniZefyMz5MzNys5E5Y78zcvaBZ6/WMW6Zfkumzp6aJDnmXce0WNelc5ccucORSZLxj43PG2+2nrAnKd9If32frydJXpz3Yn7zwG/W6vk0zba7w8BNs0mvFU++03ejHkvflP/o/Ivz+OOP54wzzvDmagOx6aab5tOf/nRuvPHGTH/2uXTrt1WSZI9tt1jpfnsOL9fve/i4vPTSS/n1r3+dMWPGCOcbgC5dumTMmDG54IIL8tJLL2Xfwz6aJBm1inNi1L/OiW79tsr0Z5/LDTfckE9/+tPC+QZihx12yBlnnJEnnngi/++XF5XLXD+ADkwPOnRwJ+9+ck7e/eTV3v7M/c9sdQ/4/sP2T3HGiqejuOCoC3LBURes9BhJ8vH3fDwff8/HWy0ftumwlR7/rRq27bZmV96ADdxyxWUDV2SrQVutdsk2Op4ePXpk0FaD8vBrL63RfmtzLtExdOrUKcOGDUvufHCN9nP9AKpGDzpQKSMGlOWQnnxxdl5f0HrW7SZz3liUJ1+cnSQZvrkZdTdkXbt0ztDNNkqS3Dd15kq3vWdKuX74AOfEhm74v/5W3LuKc+Lef50TQzfbqMU96mx4XD+ADYErFVApOw/um/ds3TdLGhpz9T2TV7jdhHunZElDY3bdum92Hrz6k+HRMdWMLkugXXPvlCx8s3WppSR5csZreWD6rHTqlJywp5JpG7oT9twmnTol90+blSdnvNbmNgvfXLJ0xu7a0c6JDZ3rB7AhENCByjnlg+XkPtfcNyUX3vp45ryxaOm6OW8syoW3Pr70Tfcp+614IiA2HMeN2ib9NuqWZ1+dl7OuvjtTZs5Zum5JQ2Nue/KFnD3hniTJYbsMypB/9biz4Rq6We8ctvOgJMnZE+7J7U++sLTGdVKWWTvr6rvz3Kvz0m+jbjl21Dbt1VTWI9cPoKNTBx2opJ/97en85MankpRDnEcO3DRJOXSx6U346R/eIaeO2b69msh6dv8zr+XE39yduQvLHvRhm2+cTXp1z7Ovzstr88s34bsP2TSXnLRXevcwxco7wbxFS/LJC+7K/c/MTpL0692jLKu2YHGmvTw3SbJxz6656DOjs/uQtmd6Z8Pj+gF0ZAI6UFnXPTwj5986OQ8/N6fF8l237ptT9huRw3YZ1E4to71Mmjk35/5tUv70yIwsaWy+fG3ep3tqRg/J5w/YLj27mbH9nWThmw05b+Kk1N/9TF6e13zfcbcunXLIzoNy2pjts90WfdqxhbQH1w+goxLQgcp79Pk5mfLy/CTlhD7uGWTm3IW5b9prWbikIf1798j7hm+W7l3dtfVOtnhJY+6Y8kpenb8oPbt2yR7D+mWLjXu2d7NoZ64fQEcjoAMAAEAF6G4AAACAChDQAQAAoAIEdAAAAKgAAR0AAAAqQEAHAACAChDQAQAAoAIEdAAAAKgAAR0AAAAqQEAHAACAChDQAQAAoAIEdAAAAKgAAR0AAAAqQEAHAACAChDQAQAAoAIEdAAAAKgAAR0AAAAqQEAHAACAChDQAQAAoAIEdAAAAKgAAR0AAAAqQEAHAACAChDQAQAAoAIEdAAAAKgAAR0AAAAqQEAHAACAChDQAQAAoAIEdAAAAKgAAR0AAAAqQEAHAACAChDQAQAAoAIEdAAAAKgAAR0AAAAqQEAHAACAChDQAQAAoAIEdAAAAKgAAR0AAAAqQEAHAACAChDQAQAAoAIEdAAAAKgAAR0AAAAqQEAHAACAChDQAQAAoAIEdAAAAKgAAR0AAAAqQEAHAACAChDQAQAAoAIEdAAAAKgAAR0AAAAqQEAHAACAChDQAQAAoAIEdAAAAKgAAR0AAAAqQEAHAACAChDQAQAAoAIEdAAAAKgAAR0AAAAqQEAHAACAChDQAQAAoAIEdAAAAKgAAR0AAAAqQEAHAACAChDQAQAAoAIEdAAAAKgAAR0AAAAqQEAHAACAChDQAQAAoAIEdAAAAKgAAR0AAAAqQEAHAACAChDQAQAAoAIEdAAAAKgAAR0AAAAqQEAHAACAChDQAQAAoAIEdAAAAKgAAR0AAAAqQEAHAACAChDQAQAAoAIEdAAAAKgAAR0AAAAqQEAHAACAChDQAQAAoAIEdAAAAKgAAR0AAAAqQEAHAACAChDQAQAAoAIEdAAAAKgAAR0AAAAqQEAHAACAChDQAQAAoAIEdAAAAKgAAR0AAAAqQEAHAACAChDQAQAAoAIEdAAAAKgAAR0AAAAqQEAHAACAChDQAQAAoAIEdAAAAKgAAR0AAAAqQEAHAACAChDQAQAAoAIEdAAAAKgAAR0AAAAqQEAHAACAChDQAQAAoAIEdAAAAKgAAR0AAAAqQEAHAACAChDQAQAAoAIEdAAAAKgAAR0AAAAqQEAHAACAChDQAQAAoAIEdAAAAKgAAR0AAAAqQEAHAACAChDQAQAAoAIEdAAAAKgAAR0AAAAqQEAHAACAChDQAQAAoAIEdAAAAKgAAR0AAAAqQEAHAACAChDQAQAAoAIEdAAAAKgAAR0AAAAqQEAHAACAChDQAQAAoAIEdAAAAKgAAR0AAAAqQEAHAACAChDQAQAAoAIEdAAAAKgAAR0AAAAqQEAHAACAChDQAQAAoAIEdAAAAKgAAR0AAAAqQEAHAACAChDQAQAAoAIEdAAAAKgAAR0AAAAqQEAHAACAChDQAQAAoAIEdAAAAKgAAR0AAAAqQEAHAACAChDQAQAAoAIEdAAAAKgAAR0AAAAqQEAHAACAChDQAQAAoAIEdAAAAKgAAR0AAAAqQEAHAACAChDQAQAAoAIEdAAAAKgAAR0AAAAqQEAHAACAChDQAQAAoAIEdAAAAKgAAR0AAAAqQEAHAACAChDQAQAAoAIEdAAAAKgAAR0AAAAqQEAHAACAChDQAQAAoAIEdAAAAKgAAR0AAAAqQEAHAACAChDQAQAAoAIEdAAAAKgAAR0AAAAqQEAHAACAChDQAQAAoAIEdAAAAKgAAR0AAAAqQEAHAACAChDQAQAAoAIEdAAAAKgAAR0AAAAqQEAHAACAChDQAQAAoAIEdAAAAKgAAR0AAAAqQEAHAACAChDQAQAAoAIEdAAAAKgAAR0AAAAq4P8HRjv8/i7vXMAAAAAASUVORK5CYII=' width=1000.0/>\n",
              "            </div>\n",
              "        "
            ],
            "application/vnd.jupyter.widget-view+json": {
              "version_major": 2,
              "version_minor": 0,
              "model_id": "30f24936d9ac4d3fac65093ec0e98019"
            }
          },
          "metadata": {
            "application/vnd.jupyter.widget-view+json": {
              "colab": {
                "custom_widget_manager": {
                  "url": "https://ssl.gstatic.com/colaboratory-static/widgets/colab-cdn-widget-manager/2b70e893a8ba7c0f/manager.min.js"
                }
              }
            }
          }
        }
      ]
    },
    {
      "cell_type": "markdown",
      "source": [],
      "metadata": {
        "id": "xJUUz9YcWpli"
      }
    },
    {
      "cell_type": "code",
      "source": [],
      "metadata": {
        "id": "sOBeZ0MJTgZK"
      },
      "execution_count": null,
      "outputs": []
    }
  ]
}